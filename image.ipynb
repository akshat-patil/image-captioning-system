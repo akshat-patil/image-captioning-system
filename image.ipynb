{
 "cells": [
  {
   "cell_type": "code",
   "execution_count": 2,
   "id": "4104a241-1d39-47fa-9b33-33fb5187c09c",
   "metadata": {},
   "outputs": [
    {
     "name": "stdout",
     "output_type": "stream",
     "text": [
      "Requirement already satisfied: tensorflow in c:\\users\\91862\\anaconda3\\envs\\new_env\\lib\\site-packages (2.13.0)\n",
      "Requirement already satisfied: keras in c:\\users\\91862\\anaconda3\\envs\\new_env\\lib\\site-packages (2.13.1)\n",
      "Requirement already satisfied: numpy in c:\\users\\91862\\anaconda3\\envs\\new_env\\lib\\site-packages (1.24.3)\n",
      "Requirement already satisfied: nltk in c:\\users\\91862\\anaconda3\\envs\\new_env\\lib\\site-packages (3.9.1)\n",
      "Requirement already satisfied: pillow in c:\\users\\91862\\anaconda3\\envs\\new_env\\lib\\site-packages (10.4.0)\n",
      "Requirement already satisfied: opencv-python in c:\\users\\91862\\anaconda3\\envs\\new_env\\lib\\site-packages (4.10.0.84)\n",
      "Requirement already satisfied: tensorflow-intel==2.13.0 in c:\\users\\91862\\anaconda3\\envs\\new_env\\lib\\site-packages (from tensorflow) (2.13.0)\n",
      "Requirement already satisfied: absl-py>=1.0.0 in c:\\users\\91862\\anaconda3\\envs\\new_env\\lib\\site-packages (from tensorflow-intel==2.13.0->tensorflow) (2.1.0)\n",
      "Requirement already satisfied: astunparse>=1.6.0 in c:\\users\\91862\\anaconda3\\envs\\new_env\\lib\\site-packages (from tensorflow-intel==2.13.0->tensorflow) (1.6.3)\n",
      "Requirement already satisfied: flatbuffers>=23.1.21 in c:\\users\\91862\\anaconda3\\envs\\new_env\\lib\\site-packages (from tensorflow-intel==2.13.0->tensorflow) (24.3.25)\n",
      "Requirement already satisfied: gast<=0.4.0,>=0.2.1 in c:\\users\\91862\\anaconda3\\envs\\new_env\\lib\\site-packages (from tensorflow-intel==2.13.0->tensorflow) (0.4.0)\n",
      "Requirement already satisfied: google-pasta>=0.1.1 in c:\\users\\91862\\anaconda3\\envs\\new_env\\lib\\site-packages (from tensorflow-intel==2.13.0->tensorflow) (0.2.0)\n",
      "Requirement already satisfied: h5py>=2.9.0 in c:\\users\\91862\\anaconda3\\envs\\new_env\\lib\\site-packages (from tensorflow-intel==2.13.0->tensorflow) (3.11.0)\n",
      "Requirement already satisfied: libclang>=13.0.0 in c:\\users\\91862\\anaconda3\\envs\\new_env\\lib\\site-packages (from tensorflow-intel==2.13.0->tensorflow) (18.1.1)\n",
      "Requirement already satisfied: opt-einsum>=2.3.2 in c:\\users\\91862\\anaconda3\\envs\\new_env\\lib\\site-packages (from tensorflow-intel==2.13.0->tensorflow) (3.4.0)\n",
      "Requirement already satisfied: packaging in c:\\users\\91862\\anaconda3\\envs\\new_env\\lib\\site-packages (from tensorflow-intel==2.13.0->tensorflow) (24.1)\n",
      "Requirement already satisfied: protobuf!=4.21.0,!=4.21.1,!=4.21.2,!=4.21.3,!=4.21.4,!=4.21.5,<5.0.0dev,>=3.20.3 in c:\\users\\91862\\anaconda3\\envs\\new_env\\lib\\site-packages (from tensorflow-intel==2.13.0->tensorflow) (4.25.5)\n",
      "Requirement already satisfied: setuptools in c:\\users\\91862\\anaconda3\\envs\\new_env\\lib\\site-packages (from tensorflow-intel==2.13.0->tensorflow) (72.1.0)\n",
      "Requirement already satisfied: six>=1.12.0 in c:\\users\\91862\\anaconda3\\envs\\new_env\\lib\\site-packages (from tensorflow-intel==2.13.0->tensorflow) (1.16.0)\n",
      "Requirement already satisfied: termcolor>=1.1.0 in c:\\users\\91862\\anaconda3\\envs\\new_env\\lib\\site-packages (from tensorflow-intel==2.13.0->tensorflow) (2.4.0)\n",
      "Requirement already satisfied: typing-extensions<4.6.0,>=3.6.6 in c:\\users\\91862\\anaconda3\\envs\\new_env\\lib\\site-packages (from tensorflow-intel==2.13.0->tensorflow) (4.5.0)\n",
      "Requirement already satisfied: wrapt>=1.11.0 in c:\\users\\91862\\anaconda3\\envs\\new_env\\lib\\site-packages (from tensorflow-intel==2.13.0->tensorflow) (1.16.0)\n",
      "Requirement already satisfied: grpcio<2.0,>=1.24.3 in c:\\users\\91862\\anaconda3\\envs\\new_env\\lib\\site-packages (from tensorflow-intel==2.13.0->tensorflow) (1.67.0)\n",
      "Requirement already satisfied: tensorboard<2.14,>=2.13 in c:\\users\\91862\\anaconda3\\envs\\new_env\\lib\\site-packages (from tensorflow-intel==2.13.0->tensorflow) (2.13.0)\n",
      "Requirement already satisfied: tensorflow-estimator<2.14,>=2.13.0 in c:\\users\\91862\\anaconda3\\envs\\new_env\\lib\\site-packages (from tensorflow-intel==2.13.0->tensorflow) (2.13.0)\n",
      "Requirement already satisfied: tensorflow-io-gcs-filesystem>=0.23.1 in c:\\users\\91862\\anaconda3\\envs\\new_env\\lib\\site-packages (from tensorflow-intel==2.13.0->tensorflow) (0.31.0)\n",
      "Requirement already satisfied: click in c:\\users\\91862\\anaconda3\\envs\\new_env\\lib\\site-packages (from nltk) (8.1.7)\n",
      "Requirement already satisfied: joblib in c:\\users\\91862\\anaconda3\\envs\\new_env\\lib\\site-packages (from nltk) (1.4.2)\n",
      "Requirement already satisfied: regex>=2021.8.3 in c:\\users\\91862\\anaconda3\\envs\\new_env\\lib\\site-packages (from nltk) (2024.9.11)\n",
      "Requirement already satisfied: tqdm in c:\\users\\91862\\anaconda3\\envs\\new_env\\lib\\site-packages (from nltk) (4.66.5)\n",
      "Requirement already satisfied: colorama in c:\\users\\91862\\anaconda3\\envs\\new_env\\lib\\site-packages (from click->nltk) (0.4.6)\n",
      "Requirement already satisfied: wheel<1.0,>=0.23.0 in c:\\users\\91862\\anaconda3\\envs\\new_env\\lib\\site-packages (from astunparse>=1.6.0->tensorflow-intel==2.13.0->tensorflow) (0.43.0)\n",
      "Requirement already satisfied: google-auth<3,>=1.6.3 in c:\\users\\91862\\anaconda3\\envs\\new_env\\lib\\site-packages (from tensorboard<2.14,>=2.13->tensorflow-intel==2.13.0->tensorflow) (2.35.0)\n",
      "Requirement already satisfied: google-auth-oauthlib<1.1,>=0.5 in c:\\users\\91862\\anaconda3\\envs\\new_env\\lib\\site-packages (from tensorboard<2.14,>=2.13->tensorflow-intel==2.13.0->tensorflow) (1.0.0)\n",
      "Requirement already satisfied: markdown>=2.6.8 in c:\\users\\91862\\anaconda3\\envs\\new_env\\lib\\site-packages (from tensorboard<2.14,>=2.13->tensorflow-intel==2.13.0->tensorflow) (3.7)\n",
      "Requirement already satisfied: requests<3,>=2.21.0 in c:\\users\\91862\\anaconda3\\envs\\new_env\\lib\\site-packages (from tensorboard<2.14,>=2.13->tensorflow-intel==2.13.0->tensorflow) (2.32.3)\n",
      "Requirement already satisfied: tensorboard-data-server<0.8.0,>=0.7.0 in c:\\users\\91862\\anaconda3\\envs\\new_env\\lib\\site-packages (from tensorboard<2.14,>=2.13->tensorflow-intel==2.13.0->tensorflow) (0.7.2)\n",
      "Requirement already satisfied: werkzeug>=1.0.1 in c:\\users\\91862\\anaconda3\\envs\\new_env\\lib\\site-packages (from tensorboard<2.14,>=2.13->tensorflow-intel==2.13.0->tensorflow) (3.0.4)\n",
      "Requirement already satisfied: cachetools<6.0,>=2.0.0 in c:\\users\\91862\\anaconda3\\envs\\new_env\\lib\\site-packages (from google-auth<3,>=1.6.3->tensorboard<2.14,>=2.13->tensorflow-intel==2.13.0->tensorflow) (5.5.0)\n",
      "Requirement already satisfied: pyasn1-modules>=0.2.1 in c:\\users\\91862\\anaconda3\\envs\\new_env\\lib\\site-packages (from google-auth<3,>=1.6.3->tensorboard<2.14,>=2.13->tensorflow-intel==2.13.0->tensorflow) (0.4.1)\n",
      "Requirement already satisfied: rsa<5,>=3.1.4 in c:\\users\\91862\\anaconda3\\envs\\new_env\\lib\\site-packages (from google-auth<3,>=1.6.3->tensorboard<2.14,>=2.13->tensorflow-intel==2.13.0->tensorflow) (4.9)\n",
      "Requirement already satisfied: requests-oauthlib>=0.7.0 in c:\\users\\91862\\anaconda3\\envs\\new_env\\lib\\site-packages (from google-auth-oauthlib<1.1,>=0.5->tensorboard<2.14,>=2.13->tensorflow-intel==2.13.0->tensorflow) (2.0.0)\n",
      "Requirement already satisfied: importlib-metadata>=4.4 in c:\\users\\91862\\anaconda3\\envs\\new_env\\lib\\site-packages (from markdown>=2.6.8->tensorboard<2.14,>=2.13->tensorflow-intel==2.13.0->tensorflow) (8.2.0)\n",
      "Requirement already satisfied: charset-normalizer<4,>=2 in c:\\users\\91862\\anaconda3\\envs\\new_env\\lib\\site-packages (from requests<3,>=2.21.0->tensorboard<2.14,>=2.13->tensorflow-intel==2.13.0->tensorflow) (3.3.2)\n",
      "Requirement already satisfied: idna<4,>=2.5 in c:\\users\\91862\\anaconda3\\envs\\new_env\\lib\\site-packages (from requests<3,>=2.21.0->tensorboard<2.14,>=2.13->tensorflow-intel==2.13.0->tensorflow) (3.7)\n",
      "Requirement already satisfied: urllib3<3,>=1.21.1 in c:\\users\\91862\\anaconda3\\envs\\new_env\\lib\\site-packages (from requests<3,>=2.21.0->tensorboard<2.14,>=2.13->tensorflow-intel==2.13.0->tensorflow) (2.2.2)\n",
      "Requirement already satisfied: certifi>=2017.4.17 in c:\\users\\91862\\anaconda3\\envs\\new_env\\lib\\site-packages (from requests<3,>=2.21.0->tensorboard<2.14,>=2.13->tensorflow-intel==2.13.0->tensorflow) (2024.7.4)\n",
      "Requirement already satisfied: MarkupSafe>=2.1.1 in c:\\users\\91862\\anaconda3\\envs\\new_env\\lib\\site-packages (from werkzeug>=1.0.1->tensorboard<2.14,>=2.13->tensorflow-intel==2.13.0->tensorflow) (2.1.5)\n",
      "Requirement already satisfied: zipp>=0.5 in c:\\users\\91862\\anaconda3\\envs\\new_env\\lib\\site-packages (from importlib-metadata>=4.4->markdown>=2.6.8->tensorboard<2.14,>=2.13->tensorflow-intel==2.13.0->tensorflow) (3.20.0)\n",
      "Requirement already satisfied: pyasn1<0.7.0,>=0.4.6 in c:\\users\\91862\\anaconda3\\envs\\new_env\\lib\\site-packages (from pyasn1-modules>=0.2.1->google-auth<3,>=1.6.3->tensorboard<2.14,>=2.13->tensorflow-intel==2.13.0->tensorflow) (0.6.1)\n",
      "Requirement already satisfied: oauthlib>=3.0.0 in c:\\users\\91862\\anaconda3\\envs\\new_env\\lib\\site-packages (from requests-oauthlib>=0.7.0->google-auth-oauthlib<1.1,>=0.5->tensorboard<2.14,>=2.13->tensorflow-intel==2.13.0->tensorflow) (3.2.2)\n"
     ]
    }
   ],
   "source": [
    "!pip install tensorflow keras numpy nltk pillow opencv-python\n"
   ]
  },
  {
   "cell_type": "code",
   "execution_count": 4,
   "id": "78598bc8-56c7-4f95-b73b-48ddb0bf163a",
   "metadata": {},
   "outputs": [],
   "source": [
    "from tensorflow.keras.preprocessing.image import load_img, img_to_array\n",
    "from tensorflow.keras.applications.inception_v3 import preprocess_input\n",
    "import numpy as np\n",
    "\n",
    "def load_and_preprocess_image(image_path):\n",
    "    # Load the image with a target size of 299x299 (as required by InceptionV3)\n",
    "    image = load_img(image_path, target_size=(299, 299))\n",
    "    \n",
    "    # Convert the image to a NumPy array\n",
    "    image = img_to_array(image)\n",
    "    \n",
    "    # Expand dimensions to match the model's input shape (1, 299, 299, 3)\n",
    "    image = np.expand_dims(image, axis=0)\n",
    "    \n",
    "    # Preprocess the image (normalizing pixel values)\n",
    "    image = preprocess_input(image)\n",
    "    \n",
    "    return image\n",
    "\n",
    "# Example usage\n",
    "image_path = \"C:/Users/91862/Desktop/image system/dog-running-with-ball-in-mouth-180953902-a9f6793df5784a6c80f00ec531eac57b.jpg\"  # Replace with your image path\n",
    "preprocessed_image = load_and_preprocess_image(image_path)\n"
   ]
  },
  {
   "cell_type": "code",
   "execution_count": 5,
   "id": "0a900d5c-526b-4b0f-bb0f-2723f2370357",
   "metadata": {},
   "outputs": [
    {
     "name": "stdout",
     "output_type": "stream",
     "text": [
      "Downloading data from https://storage.googleapis.com/tensorflow/keras-applications/inception_v3/inception_v3_weights_tf_dim_ordering_tf_kernels_notop.h5\n",
      "87910968/87910968 [==============================] - 14s 0us/step\n",
      "1/1 [==============================] - 2s 2s/step\n",
      "Extracted features shape: (1, 2048)\n"
     ]
    }
   ],
   "source": [
    "from tensorflow.keras.applications import InceptionV3\n",
    "\n",
    "# Load the InceptionV3 model, excluding the top classification layer\n",
    "model_inception = InceptionV3(include_top=False, pooling='avg')\n",
    "\n",
    "# Function to extract features from the image\n",
    "def extract_image_features(image):\n",
    "    features = model_inception.predict(image)\n",
    "    return features\n",
    "\n",
    "# Extract features from the preprocessed image\n",
    "image_features = extract_image_features(preprocessed_image)\n",
    "\n",
    "# Print the shape of the extracted features\n",
    "print(\"Extracted features shape:\", image_features.shape)\n"
   ]
  },
  {
   "cell_type": "code",
   "execution_count": 6,
   "id": "779eb2e5-627a-4cbe-a1da-5cc9d1bc8559",
   "metadata": {},
   "outputs": [
    {
     "name": "stdout",
     "output_type": "stream",
     "text": [
      "Collecting transformers\n",
      "  Downloading transformers-4.45.2-py3-none-any.whl.metadata (44 kB)\n",
      "Requirement already satisfied: filelock in c:\\users\\91862\\anaconda3\\envs\\new_env\\lib\\site-packages (from transformers) (3.15.4)\n",
      "Collecting huggingface-hub<1.0,>=0.23.2 (from transformers)\n",
      "  Downloading huggingface_hub-0.26.1-py3-none-any.whl.metadata (13 kB)\n",
      "Requirement already satisfied: numpy>=1.17 in c:\\users\\91862\\anaconda3\\envs\\new_env\\lib\\site-packages (from transformers) (1.24.3)\n",
      "Requirement already satisfied: packaging>=20.0 in c:\\users\\91862\\anaconda3\\envs\\new_env\\lib\\site-packages (from transformers) (24.1)\n",
      "Requirement already satisfied: pyyaml>=5.1 in c:\\users\\91862\\anaconda3\\envs\\new_env\\lib\\site-packages (from transformers) (6.0.2)\n",
      "Requirement already satisfied: regex!=2019.12.17 in c:\\users\\91862\\anaconda3\\envs\\new_env\\lib\\site-packages (from transformers) (2024.9.11)\n",
      "Requirement already satisfied: requests in c:\\users\\91862\\anaconda3\\envs\\new_env\\lib\\site-packages (from transformers) (2.32.3)\n",
      "Collecting safetensors>=0.4.1 (from transformers)\n",
      "  Downloading safetensors-0.4.5-cp38-none-win_amd64.whl.metadata (3.9 kB)\n",
      "Collecting tokenizers<0.21,>=0.20 (from transformers)\n",
      "  Downloading tokenizers-0.20.1-cp38-none-win_amd64.whl.metadata (6.9 kB)\n",
      "Requirement already satisfied: tqdm>=4.27 in c:\\users\\91862\\anaconda3\\envs\\new_env\\lib\\site-packages (from transformers) (4.66.5)\n",
      "Requirement already satisfied: fsspec>=2023.5.0 in c:\\users\\91862\\anaconda3\\envs\\new_env\\lib\\site-packages (from huggingface-hub<1.0,>=0.23.2->transformers) (2024.6.1)\n",
      "Requirement already satisfied: typing-extensions>=3.7.4.3 in c:\\users\\91862\\anaconda3\\envs\\new_env\\lib\\site-packages (from huggingface-hub<1.0,>=0.23.2->transformers) (4.5.0)\n",
      "Requirement already satisfied: colorama in c:\\users\\91862\\anaconda3\\envs\\new_env\\lib\\site-packages (from tqdm>=4.27->transformers) (0.4.6)\n",
      "Requirement already satisfied: charset-normalizer<4,>=2 in c:\\users\\91862\\anaconda3\\envs\\new_env\\lib\\site-packages (from requests->transformers) (3.3.2)\n",
      "Requirement already satisfied: idna<4,>=2.5 in c:\\users\\91862\\anaconda3\\envs\\new_env\\lib\\site-packages (from requests->transformers) (3.7)\n",
      "Requirement already satisfied: urllib3<3,>=1.21.1 in c:\\users\\91862\\anaconda3\\envs\\new_env\\lib\\site-packages (from requests->transformers) (2.2.2)\n",
      "Requirement already satisfied: certifi>=2017.4.17 in c:\\users\\91862\\anaconda3\\envs\\new_env\\lib\\site-packages (from requests->transformers) (2024.7.4)\n",
      "Downloading transformers-4.45.2-py3-none-any.whl (9.9 MB)\n",
      "   ---------------------------------------- 0.0/9.9 MB ? eta -:--:--\n",
      "   ---- ----------------------------------- 1.0/9.9 MB 6.3 MB/s eta 0:00:02\n",
      "   -------- ------------------------------- 2.1/9.9 MB 5.9 MB/s eta 0:00:02\n",
      "   ------------- -------------------------- 3.4/9.9 MB 5.6 MB/s eta 0:00:02\n",
      "   ------------------ --------------------- 4.5/9.9 MB 5.7 MB/s eta 0:00:01\n",
      "   ------------------------ --------------- 6.0/9.9 MB 6.1 MB/s eta 0:00:01\n",
      "   ----------------------------- ---------- 7.3/9.9 MB 6.0 MB/s eta 0:00:01\n",
      "   ------------------------------------ --- 8.9/9.9 MB 6.2 MB/s eta 0:00:01\n",
      "   ---------------------------------------- 9.9/9.9 MB 6.2 MB/s eta 0:00:00\n",
      "Downloading huggingface_hub-0.26.1-py3-none-any.whl (447 kB)\n",
      "Downloading safetensors-0.4.5-cp38-none-win_amd64.whl (286 kB)\n",
      "Downloading tokenizers-0.20.1-cp38-none-win_amd64.whl (2.4 MB)\n",
      "   ---------------------------------------- 0.0/2.4 MB ? eta -:--:--\n",
      "   ----------------- ---------------------- 1.0/2.4 MB 5.6 MB/s eta 0:00:01\n",
      "   ---------------------------------------- 2.4/2.4 MB 6.2 MB/s eta 0:00:00\n",
      "Installing collected packages: safetensors, huggingface-hub, tokenizers, transformers\n",
      "Successfully installed huggingface-hub-0.26.1 safetensors-0.4.5 tokenizers-0.20.1 transformers-4.45.2\n"
     ]
    }
   ],
   "source": [
    "!pip install transformers\n"
   ]
  },
  {
   "cell_type": "code",
   "execution_count": 7,
   "id": "103ce8bb-21d0-4ee5-bdab-ce0dc7b32d81",
   "metadata": {},
   "outputs": [
    {
     "data": {
      "application/vnd.jupyter.widget-view+json": {
       "model_id": "391cbb352fea42f693f9bc5a9b368fdb",
       "version_major": 2,
       "version_minor": 0
      },
      "text/plain": [
       "preprocessor_config.json:   0%|          | 0.00/287 [00:00<?, ?B/s]"
      ]
     },
     "metadata": {},
     "output_type": "display_data"
    },
    {
     "name": "stderr",
     "output_type": "stream",
     "text": [
      "C:\\Users\\91862\\anaconda3\\envs\\new_env\\lib\\site-packages\\huggingface_hub\\file_download.py:139: UserWarning: `huggingface_hub` cache-system uses symlinks by default to efficiently store duplicated files but your machine does not support them in C:\\Users\\91862\\.cache\\huggingface\\hub\\models--Salesforce--blip-image-captioning-base. Caching files will still work but in a degraded version that might require more space on your disk. This warning can be disabled by setting the `HF_HUB_DISABLE_SYMLINKS_WARNING` environment variable. For more details, see https://huggingface.co/docs/huggingface_hub/how-to-cache#limitations.\n",
      "To support symlinks on Windows, you either need to activate Developer Mode or to run Python as an administrator. In order to activate developer mode, see this article: https://docs.microsoft.com/en-us/windows/apps/get-started/enable-your-device-for-development\n",
      "  warnings.warn(message)\n"
     ]
    },
    {
     "data": {
      "application/vnd.jupyter.widget-view+json": {
       "model_id": "4aa0c78420854a53be79b57209ef708f",
       "version_major": 2,
       "version_minor": 0
      },
      "text/plain": [
       "tokenizer_config.json:   0%|          | 0.00/506 [00:00<?, ?B/s]"
      ]
     },
     "metadata": {},
     "output_type": "display_data"
    },
    {
     "data": {
      "application/vnd.jupyter.widget-view+json": {
       "model_id": "cbdbf6d1ca294b2ba48c61388b4824ea",
       "version_major": 2,
       "version_minor": 0
      },
      "text/plain": [
       "vocab.txt:   0%|          | 0.00/232k [00:00<?, ?B/s]"
      ]
     },
     "metadata": {},
     "output_type": "display_data"
    },
    {
     "data": {
      "application/vnd.jupyter.widget-view+json": {
       "model_id": "c8da2a9529a44cc4aa5915a6765c1472",
       "version_major": 2,
       "version_minor": 0
      },
      "text/plain": [
       "tokenizer.json:   0%|          | 0.00/711k [00:00<?, ?B/s]"
      ]
     },
     "metadata": {},
     "output_type": "display_data"
    },
    {
     "data": {
      "application/vnd.jupyter.widget-view+json": {
       "model_id": "c2866aa8ac9e4330a9c2598732bd6aa5",
       "version_major": 2,
       "version_minor": 0
      },
      "text/plain": [
       "special_tokens_map.json:   0%|          | 0.00/125 [00:00<?, ?B/s]"
      ]
     },
     "metadata": {},
     "output_type": "display_data"
    },
    {
     "data": {
      "application/vnd.jupyter.widget-view+json": {
       "model_id": "36ce0689665c48ad945bb8a99dbe4abc",
       "version_major": 2,
       "version_minor": 0
      },
      "text/plain": [
       "config.json:   0%|          | 0.00/4.56k [00:00<?, ?B/s]"
      ]
     },
     "metadata": {},
     "output_type": "display_data"
    },
    {
     "data": {
      "application/vnd.jupyter.widget-view+json": {
       "model_id": "62a3eca23de242058e1eea5e132a1a24",
       "version_major": 2,
       "version_minor": 0
      },
      "text/plain": [
       "pytorch_model.bin:   0%|          | 0.00/990M [00:00<?, ?B/s]"
      ]
     },
     "metadata": {},
     "output_type": "display_data"
    },
    {
     "name": "stderr",
     "output_type": "stream",
     "text": [
      "C:\\Users\\91862\\anaconda3\\envs\\new_env\\lib\\site-packages\\transformers\\generation\\utils.py:1220: UserWarning: Using the model-agnostic default `max_length` (=20) to control the generation length. We recommend setting `max_new_tokens` to control the maximum length of the generation.\n",
      "  warnings.warn(\n"
     ]
    },
    {
     "name": "stdout",
     "output_type": "stream",
     "text": [
      "Generated Caption: a dog running in a field\n"
     ]
    }
   ],
   "source": [
    "from transformers import BlipProcessor, BlipForConditionalGeneration\n",
    "from PIL import Image\n",
    "\n",
    "# Load the pre-trained BLIP model and processor\n",
    "processor = BlipProcessor.from_pretrained(\"Salesforce/blip-image-captioning-base\")\n",
    "model = BlipForConditionalGeneration.from_pretrained(\"Salesforce/blip-image-captioning-base\")\n",
    "\n",
    "# Load and preprocess your image\n",
    "image_path = \"C:/Users/91862/Desktop/image system/dog-running-with-ball-in-mouth-180953902-a9f6793df5784a6c80f00ec531eac57b.jpg\"  # Replace with your image path\n",
    "raw_image = Image.open(image_path).convert(\"RGB\")\n",
    "\n",
    "# Preprocess image and prepare inputs for the model\n",
    "inputs = processor(images=raw_image, return_tensors=\"pt\")\n",
    "\n",
    "# Generate the caption\n",
    "output = model.generate(**inputs)\n",
    "\n",
    "# Decode the generated caption\n",
    "caption = processor.decode(output[0], skip_special_tokens=True)\n",
    "print(\"Generated Caption:\", caption)"
   ]
  },
  {
   "cell_type": "code",
   "execution_count": 8,
   "id": "b9f7e7ec-2269-445f-a8a0-9d77b5e923fe",
   "metadata": {},
   "outputs": [
    {
     "name": "stdout",
     "output_type": "stream",
     "text": [
      "Generated Caption: a plane flying in the sky above the clouds\n"
     ]
    }
   ],
   "source": [
    "from transformers import BlipProcessor, BlipForConditionalGeneration\n",
    "from PIL import Image\n",
    "\n",
    "# Load the pre-trained BLIP model and processor\n",
    "processor = BlipProcessor.from_pretrained(\"Salesforce/blip-image-captioning-base\")\n",
    "model = BlipForConditionalGeneration.from_pretrained(\"Salesforce/blip-image-captioning-base\")\n",
    "\n",
    "# Load and preprocess your image\n",
    "image_path = \"C:/Users/91862/Desktop/image system/o-AIRPLANES-MOBILE-facebook.jpg\"  # Replace with your image path\n",
    "raw_image = Image.open(image_path).convert(\"RGB\")\n",
    "\n",
    "# Preprocess image and prepare inputs for the model\n",
    "inputs = processor(images=raw_image, return_tensors=\"pt\")\n",
    "\n",
    "# Generate the caption\n",
    "output = model.generate(**inputs)\n",
    "\n",
    "# Decode the generated caption\n",
    "caption = processor.decode(output[0], skip_special_tokens=True)\n",
    "print(\"Generated Caption:\", caption)"
   ]
  },
  {
   "cell_type": "code",
   "execution_count": 10,
   "id": "2984e697-97b9-42e7-bea1-2aa878109de4",
   "metadata": {},
   "outputs": [
    {
     "name": "stdout",
     "output_type": "stream",
     "text": [
      "Generated Caption: a soccer player in action on the field\n"
     ]
    }
   ],
   "source": [
    "from transformers import BlipProcessor, BlipForConditionalGeneration\n",
    "from PIL import Image\n",
    "\n",
    "# Load the pre-trained BLIP model and processor\n",
    "processor = BlipProcessor.from_pretrained(\"Salesforce/blip-image-captioning-base\")\n",
    "model = BlipForConditionalGeneration.from_pretrained(\"Salesforce/blip-image-captioning-base\")\n",
    "\n",
    "# Load and preprocess your image\n",
    "image_path = \"C:/Users/91862/Desktop/image system/imago1011761617h.jpg\"  # Replace with your image path\n",
    "raw_image = Image.open(image_path).convert(\"RGB\")\n",
    "\n",
    "# Preprocess image and prepare inputs for the model\n",
    "inputs = processor(images=raw_image, return_tensors=\"pt\")\n",
    "\n",
    "# Generate the caption\n",
    "output = model.generate(**inputs)\n",
    "\n",
    "# Decode the generated caption\n",
    "caption = processor.decode(output[0], skip_special_tokens=True)\n",
    "print(\"Generated Caption:\", caption)"
   ]
  },
  {
   "cell_type": "code",
   "execution_count": null,
   "id": "a0b5253b-38ba-48a8-9619-e6a1c76647d5",
   "metadata": {},
   "outputs": [],
   "source": []
  }
 ],
 "metadata": {
  "kernelspec": {
   "display_name": "Python 3 (ipykernel)",
   "language": "python",
   "name": "python3"
  },
  "language_info": {
   "codemirror_mode": {
    "name": "ipython",
    "version": 3
   },
   "file_extension": ".py",
   "mimetype": "text/x-python",
   "name": "python",
   "nbconvert_exporter": "python",
   "pygments_lexer": "ipython3",
   "version": "3.8.19"
  }
 },
 "nbformat": 4,
 "nbformat_minor": 5
}
